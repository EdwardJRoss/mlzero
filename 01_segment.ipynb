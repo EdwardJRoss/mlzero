{
 "cells": [
  {
   "cell_type": "code",
   "execution_count": null,
   "id": "sapphire-railway",
   "metadata": {},
   "outputs": [],
   "source": [
    "# default_exp segment"
   ]
  },
  {
   "cell_type": "code",
   "execution_count": null,
   "id": "greater-estonia",
   "metadata": {},
   "outputs": [],
   "source": [
    "#export\n",
    "from typing import List"
   ]
  },
  {
   "cell_type": "code",
   "execution_count": null,
   "id": "primary-registrar",
   "metadata": {},
   "outputs": [],
   "source": [
    "#export\n",
    "def tokenize_space(text: str) -> List[str]:\n",
    "    return text.split(' ')"
   ]
  }
 ],
 "metadata": {
  "kernelspec": {
   "display_name": "Python 3",
   "language": "python",
   "name": "python3"
  }
 },
 "nbformat": 4,
 "nbformat_minor": 5
}
